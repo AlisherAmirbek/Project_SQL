{
 "cells": [
  {
   "cell_type": "code",
   "execution_count": 1,
   "metadata": {
    "scrolled": true
   },
   "outputs": [
    
   ],
   "source": [
    "import pandas as pd\n",
    "import numpy as np\n",
    "from pandasql import sqldf\n",
    "import matplotlib.pyplot as plt\n",
    "import sqlite3\n",
    "\n",
    "def execute_sql(query):\n",
    "    return sqldf(query, globals())"
   ]
  },
  {
   "cell_type": "markdown",
   "metadata": {},
   "source": [
    "# Описание полей"
   ]
  },
  {
   "cell_type": "markdown",
   "metadata": {},
   "source": [
    "- `timestamp` -- дата и время поста \n",
    "<br>\n",
    "- `company` -- название компании\n",
    "<br>\n",
    "- `level` -- уровень специалиста (jun - mid - senior etc)\n",
    "<br>\n",
    "- `title` -- название вакансии \n",
    "<br>\n",
    "- `totalyearlycompensation` -- годовая заработная плана. в контексте всех последующих задач, именно это поле будет иметься в виду под названием \"зарплата\"\n",
    "<br>\n",
    "- `location` -- город и штат\\страна, где работает специалист\n",
    "<br>\n",
    "- `yearsofexperience` -- уровень специалиста\n",
    "<br>\n",
    "- `yearsatcompany` -- опыт работы специалиста \n",
    "<br>\n",
    "- `basesalary` -- базовая компенсация\n",
    "<br>\n",
    "\n"
   ]
  },
  {
   "cell_type": "code",
   "execution_count": 4,
   "metadata": {},
   "outputs": [
    {
     "data": {
      "text/plain": [
       "0       2017-06-07 11:33:27\n",
       "1       2017-06-10 17:11:29\n",
       "2       2017-06-11 14:53:57\n",
       "3       2017-06-17 00:23:14\n",
       "4       2017-06-20 10:58:51\n",
       "                ...        \n",
       "69995   2020-06-16 15:16:13\n",
       "69996   2021-02-24 20:56:27\n",
       "69997   2021-01-04 20:52:36\n",
       "69998   2020-12-01 17:03:09\n",
       "69999   2021-07-16 07:43:01\n",
       "Name: timestamp, Length: 70000, dtype: datetime64[ns]"
      ]
     },
     "execution_count": 4,
     "metadata": {},
     "output_type": "execute_result"
    }
   ],
   "source": [
    "df = pd.read_csv('P01_Salaries_Dataset - P01_Salaries_Dataset.csv', index_col = 0)\n",
    "df['timestamp'] = pd.to_datetime(df['timestamp'])\n",
    "df['timestamp']"
   ]
  },
  {
   "cell_type": "markdown",
   "metadata": {},
   "source": [
    "Вам необходимо будет проделать несколько задач по датасету, в удобном для вас формате -- либо используя **методы pandas**, либо **через SQL-код**"
   ]
  },
  {
   "cell_type": "markdown",
   "metadata": {},
   "source": [
    "# Задачи\n",
    "\n",
    "1. Сколько уникальных компаний находятся в топ 10 по сумме годовых заработной платы `totalyearlycompensation`?\n",
    "1. Какой средний опыт работы у `Software Engineers` в компании `Oracle` с заработной платой больше `50.000`?\n",
    "1. Каковы средние зарплаты по локациям `Austin, TX`, `London, EN, United Kingdom` и `Redmond, WA`\n",
    "1. Какова средняя зарплата в целом в штате Калифорния? `(CA)`\n",
    "\n",
    "1. Сравните заработные платы компаний \"FAANG\" против остальных компаний в разрезе позиции `Software Engineer`\n",
    "\n",
    "1. Сравните среднюю, медиану и моду по заработным платам у `Software Engineers` за периоды \n",
    "  `январь 2021 - апрель 2021`  vs `май 2021 - август 2021` (включительно)\n",
    "1. Визуализируйте данные с предыдущего задания линейным графиком, где должны быть соблюдены следующие условия:\n",
    "    - Период январь-апрель должен быть зеленого цвета\n",
    "    - Период май-август должен быть красного цвета\n",
    "    - на линейном графике должны присутствовать только средние значения (mean)\n",
    "\n",
    "1. Оцените влияние уровня образования (или его отсутствия) к заработной плате\n",
    "\n",
    "1. Оцените _зависимость_ между опытом работы `yearsofexperience` и заработной платой\n",
    "\n",
    "1. Сделайте сравнение уровня зарплат в зависимости от грэйда (level) в компании Amazon на позицию 'Software Engineer'. Постройте визуализацию и **напишите ваши выводы**. [Подробнее о грэйдах в Amazon](https://careerkarma.com/blog/software-engineering-salary-amazon/), [примеры исследования позиций и зарплат в Казахстане](https://zerttey.kolesa.group/datascience#zp)"
   ]
  },
  {
   "cell_type": "code",
   "execution_count": 62,
   "metadata": {
    "scrolled": false
   },
   "outputs": [
    {
     "data": {
      "text/html": [
       "<div>\n",
       "<style scoped>\n",
       "    .dataframe tbody tr th:only-of-type {\n",
       "        vertical-align: middle;\n",
       "    }\n",
       "\n",
       "    .dataframe tbody tr th {\n",
       "        vertical-align: top;\n",
       "    }\n",
       "\n",
       "    .dataframe thead th {\n",
       "        text-align: right;\n",
       "    }\n",
       "</style>\n",
       "<table border=\"1\" class=\"dataframe\">\n",
       "  <thead>\n",
       "    <tr style=\"text-align: right;\">\n",
       "      <th></th>\n",
       "      <th>timestamp</th>\n",
       "      <th>company</th>\n",
       "      <th>level</th>\n",
       "      <th>title</th>\n",
       "      <th>totalyearlycompensation</th>\n",
       "      <th>location</th>\n",
       "      <th>yearsofexperience</th>\n",
       "      <th>yearsatcompany</th>\n",
       "      <th>tag</th>\n",
       "      <th>basesalary</th>\n",
       "      <th>stockgrantvalue</th>\n",
       "      <th>bonus</th>\n",
       "      <th>gender</th>\n",
       "      <th>Race</th>\n",
       "      <th>Education</th>\n",
       "    </tr>\n",
       "  </thead>\n",
       "  <tbody>\n",
       "    <tr>\n",
       "      <th>0</th>\n",
       "      <td>2017-06-07 11:33:27.000000</td>\n",
       "      <td>Oracle</td>\n",
       "      <td>L3</td>\n",
       "      <td>Product Manager</td>\n",
       "      <td>127000</td>\n",
       "      <td>Redwood City, CA</td>\n",
       "      <td>1.5</td>\n",
       "      <td>1.5</td>\n",
       "      <td>None</td>\n",
       "      <td>107000.0</td>\n",
       "      <td>20000.0</td>\n",
       "      <td>10000.0</td>\n",
       "      <td>None</td>\n",
       "      <td>None</td>\n",
       "      <td>None</td>\n",
       "    </tr>\n",
       "    <tr>\n",
       "      <th>1</th>\n",
       "      <td>2017-06-10 17:11:29.000000</td>\n",
       "      <td>eBay</td>\n",
       "      <td>SE 2</td>\n",
       "      <td>Software Engineer</td>\n",
       "      <td>100000</td>\n",
       "      <td>San Francisco, CA</td>\n",
       "      <td>5.0</td>\n",
       "      <td>3.0</td>\n",
       "      <td>None</td>\n",
       "      <td>0.0</td>\n",
       "      <td>0.0</td>\n",
       "      <td>0.0</td>\n",
       "      <td>None</td>\n",
       "      <td>None</td>\n",
       "      <td>None</td>\n",
       "    </tr>\n",
       "    <tr>\n",
       "      <th>2</th>\n",
       "      <td>2017-06-11 14:53:57.000000</td>\n",
       "      <td>Amazon</td>\n",
       "      <td>L7</td>\n",
       "      <td>Product Manager</td>\n",
       "      <td>310000</td>\n",
       "      <td>Seattle, WA</td>\n",
       "      <td>8.0</td>\n",
       "      <td>0.0</td>\n",
       "      <td>None</td>\n",
       "      <td>155000.0</td>\n",
       "      <td>0.0</td>\n",
       "      <td>0.0</td>\n",
       "      <td>None</td>\n",
       "      <td>None</td>\n",
       "      <td>None</td>\n",
       "    </tr>\n",
       "    <tr>\n",
       "      <th>3</th>\n",
       "      <td>2017-06-17 00:23:14.000000</td>\n",
       "      <td>Apple</td>\n",
       "      <td>M1</td>\n",
       "      <td>Software Engineering Manager</td>\n",
       "      <td>372000</td>\n",
       "      <td>Sunnyvale, CA</td>\n",
       "      <td>7.0</td>\n",
       "      <td>5.0</td>\n",
       "      <td>None</td>\n",
       "      <td>157000.0</td>\n",
       "      <td>180000.0</td>\n",
       "      <td>35000.0</td>\n",
       "      <td>None</td>\n",
       "      <td>None</td>\n",
       "      <td>None</td>\n",
       "    </tr>\n",
       "    <tr>\n",
       "      <th>4</th>\n",
       "      <td>2017-06-20 10:58:51.000000</td>\n",
       "      <td>Microsoft</td>\n",
       "      <td>60</td>\n",
       "      <td>Software Engineer</td>\n",
       "      <td>157000</td>\n",
       "      <td>Mountain View, CA</td>\n",
       "      <td>5.0</td>\n",
       "      <td>3.0</td>\n",
       "      <td>None</td>\n",
       "      <td>0.0</td>\n",
       "      <td>0.0</td>\n",
       "      <td>0.0</td>\n",
       "      <td>None</td>\n",
       "      <td>None</td>\n",
       "      <td>None</td>\n",
       "    </tr>\n",
       "    <tr>\n",
       "      <th>...</th>\n",
       "      <td>...</td>\n",
       "      <td>...</td>\n",
       "      <td>...</td>\n",
       "      <td>...</td>\n",
       "      <td>...</td>\n",
       "      <td>...</td>\n",
       "      <td>...</td>\n",
       "      <td>...</td>\n",
       "      <td>...</td>\n",
       "      <td>...</td>\n",
       "      <td>...</td>\n",
       "      <td>...</td>\n",
       "      <td>...</td>\n",
       "      <td>...</td>\n",
       "      <td>...</td>\n",
       "    </tr>\n",
       "    <tr>\n",
       "      <th>95</th>\n",
       "      <td>2017-11-15 10:25:44.000000</td>\n",
       "      <td>Amazon</td>\n",
       "      <td>L4</td>\n",
       "      <td>Software Engineer</td>\n",
       "      <td>148000</td>\n",
       "      <td>Sunnyvale, CA</td>\n",
       "      <td>1.0</td>\n",
       "      <td>1.0</td>\n",
       "      <td>None</td>\n",
       "      <td>0.0</td>\n",
       "      <td>0.0</td>\n",
       "      <td>0.0</td>\n",
       "      <td>None</td>\n",
       "      <td>None</td>\n",
       "      <td>None</td>\n",
       "    </tr>\n",
       "    <tr>\n",
       "      <th>96</th>\n",
       "      <td>2017-11-16 18:40:36.000000</td>\n",
       "      <td>Google</td>\n",
       "      <td>L4</td>\n",
       "      <td>Software Engineer</td>\n",
       "      <td>273000</td>\n",
       "      <td>Sunnyvale, CA</td>\n",
       "      <td>1.0</td>\n",
       "      <td>1.0</td>\n",
       "      <td>None</td>\n",
       "      <td>131000.0</td>\n",
       "      <td>112000.0</td>\n",
       "      <td>30000.0</td>\n",
       "      <td>None</td>\n",
       "      <td>None</td>\n",
       "      <td>None</td>\n",
       "    </tr>\n",
       "    <tr>\n",
       "      <th>97</th>\n",
       "      <td>2017-11-18 12:46:06.000000</td>\n",
       "      <td>Microsoft</td>\n",
       "      <td>63</td>\n",
       "      <td>Software Engineer</td>\n",
       "      <td>240000</td>\n",
       "      <td>Redmond, WA</td>\n",
       "      <td>6.0</td>\n",
       "      <td>1.0</td>\n",
       "      <td>None</td>\n",
       "      <td>150700.0</td>\n",
       "      <td>120000.0</td>\n",
       "      <td>40000.0</td>\n",
       "      <td>None</td>\n",
       "      <td>None</td>\n",
       "      <td>None</td>\n",
       "    </tr>\n",
       "    <tr>\n",
       "      <th>98</th>\n",
       "      <td>2017-11-20 14:46:22.000000</td>\n",
       "      <td>Google</td>\n",
       "      <td>L4</td>\n",
       "      <td>Software Engineer</td>\n",
       "      <td>268000</td>\n",
       "      <td>Mountain View, CA</td>\n",
       "      <td>5.0</td>\n",
       "      <td>3.5</td>\n",
       "      <td>None</td>\n",
       "      <td>142000.0</td>\n",
       "      <td>100000.0</td>\n",
       "      <td>26000.0</td>\n",
       "      <td>None</td>\n",
       "      <td>None</td>\n",
       "      <td>None</td>\n",
       "    </tr>\n",
       "    <tr>\n",
       "      <th>99</th>\n",
       "      <td>2017-11-24 13:53:00.000000</td>\n",
       "      <td>Amazon</td>\n",
       "      <td>L6</td>\n",
       "      <td>Software Engineering Manager</td>\n",
       "      <td>290000</td>\n",
       "      <td>Seattle, WA</td>\n",
       "      <td>10.0</td>\n",
       "      <td>4.0</td>\n",
       "      <td>None</td>\n",
       "      <td>160000.0</td>\n",
       "      <td>130000.0</td>\n",
       "      <td>0.0</td>\n",
       "      <td>None</td>\n",
       "      <td>None</td>\n",
       "      <td>None</td>\n",
       "    </tr>\n",
       "  </tbody>\n",
       "</table>\n",
       "<p>100 rows × 15 columns</p>\n",
       "</div>"
      ],
      "text/plain": [
       "                     timestamp    company level                         title  \\\n",
       "0   2017-06-07 11:33:27.000000     Oracle    L3               Product Manager   \n",
       "1   2017-06-10 17:11:29.000000       eBay  SE 2             Software Engineer   \n",
       "2   2017-06-11 14:53:57.000000     Amazon    L7               Product Manager   \n",
       "3   2017-06-17 00:23:14.000000      Apple    M1  Software Engineering Manager   \n",
       "4   2017-06-20 10:58:51.000000  Microsoft    60             Software Engineer   \n",
       "..                         ...        ...   ...                           ...   \n",
       "95  2017-11-15 10:25:44.000000     Amazon    L4             Software Engineer   \n",
       "96  2017-11-16 18:40:36.000000     Google    L4             Software Engineer   \n",
       "97  2017-11-18 12:46:06.000000  Microsoft    63             Software Engineer   \n",
       "98  2017-11-20 14:46:22.000000     Google    L4             Software Engineer   \n",
       "99  2017-11-24 13:53:00.000000     Amazon    L6  Software Engineering Manager   \n",
       "\n",
       "    totalyearlycompensation           location  yearsofexperience  \\\n",
       "0                    127000   Redwood City, CA                1.5   \n",
       "1                    100000  San Francisco, CA                5.0   \n",
       "2                    310000        Seattle, WA                8.0   \n",
       "3                    372000      Sunnyvale, CA                7.0   \n",
       "4                    157000  Mountain View, CA                5.0   \n",
       "..                      ...                ...                ...   \n",
       "95                   148000      Sunnyvale, CA                1.0   \n",
       "96                   273000      Sunnyvale, CA                1.0   \n",
       "97                   240000        Redmond, WA                6.0   \n",
       "98                   268000  Mountain View, CA                5.0   \n",
       "99                   290000        Seattle, WA               10.0   \n",
       "\n",
       "    yearsatcompany   tag  basesalary  stockgrantvalue    bonus gender  Race  \\\n",
       "0              1.5  None    107000.0          20000.0  10000.0   None  None   \n",
       "1              3.0  None         0.0              0.0      0.0   None  None   \n",
       "2              0.0  None    155000.0              0.0      0.0   None  None   \n",
       "3              5.0  None    157000.0         180000.0  35000.0   None  None   \n",
       "4              3.0  None         0.0              0.0      0.0   None  None   \n",
       "..             ...   ...         ...              ...      ...    ...   ...   \n",
       "95             1.0  None         0.0              0.0      0.0   None  None   \n",
       "96             1.0  None    131000.0         112000.0  30000.0   None  None   \n",
       "97             1.0  None    150700.0         120000.0  40000.0   None  None   \n",
       "98             3.5  None    142000.0         100000.0  26000.0   None  None   \n",
       "99             4.0  None    160000.0         130000.0      0.0   None  None   \n",
       "\n",
       "   Education  \n",
       "0       None  \n",
       "1       None  \n",
       "2       None  \n",
       "3       None  \n",
       "4       None  \n",
       "..       ...  \n",
       "95      None  \n",
       "96      None  \n",
       "97      None  \n",
       "98      None  \n",
       "99      None  \n",
       "\n",
       "[100 rows x 15 columns]"
      ]
     },
     "execution_count": 62,
     "metadata": {},
     "output_type": "execute_result"
    }
   ],
   "source": [
    "sql_query = \"\"\"\n",
    "SELECT *\n",
    "FROM df\n",
    "LIMIT 100\n",
    "\"\"\"\n",
    "execute_sql(sql_query)"
   ]
  },
  {
   "cell_type": "markdown",
   "metadata": {},
   "source": [
    "### Сколько уникальных компаний находятся в топ 10 по сумме годовых заработной платы totalyearlycompensation?"
   ]
  },
  {
   "cell_type": "code",
   "execution_count": 79,
   "metadata": {
    "scrolled": false
   },
   "outputs": [
    {
     "data": {
      "text/html": [
       "<div>\n",
       "<style scoped>\n",
       "    .dataframe tbody tr th:only-of-type {\n",
       "        vertical-align: middle;\n",
       "    }\n",
       "\n",
       "    .dataframe tbody tr th {\n",
       "        vertical-align: top;\n",
       "    }\n",
       "\n",
       "    .dataframe thead th {\n",
       "        text-align: right;\n",
       "    }\n",
       "</style>\n",
       "<table border=\"1\" class=\"dataframe\">\n",
       "  <thead>\n",
       "    <tr style=\"text-align: right;\">\n",
       "      <th></th>\n",
       "      <th>unique_companies</th>\n",
       "    </tr>\n",
       "  </thead>\n",
       "  <tbody>\n",
       "    <tr>\n",
       "      <th>0</th>\n",
       "      <td>6</td>\n",
       "    </tr>\n",
       "  </tbody>\n",
       "</table>\n",
       "</div>"
      ],
      "text/plain": [
       "   unique_companies\n",
       "0                 6"
      ]
     },
     "execution_count": 79,
     "metadata": {},
     "output_type": "execute_result"
    }
   ],
   "source": [
    "sql_query = \"\"\"\n",
    "SELECT COUNT(DISTINCT company) AS unique_companies\n",
    "FROM df\n",
    "WHERE totalyearlycompensation IN (\n",
    "    SELECT DISTINCT totalyearlycompensation\n",
    "    FROM df\n",
    "    ORDER BY totalyearlycompensation DESC\n",
    "    LIMIT 10\n",
    ");\n",
    "\"\"\"\n",
    "execute_sql(sql_query)"
   ]
  },
  {
   "cell_type": "markdown",
   "metadata": {},
   "source": [
    "### Какой средний опыт работы у Software Engineers в компании Oracle с заработной платой больше 50.000?"
   ]
  },
  {
   "cell_type": "code",
   "execution_count": 33,
   "metadata": {},
   "outputs": [
    {
     "data": {
      "text/html": [
       "<div>\n",
       "<style scoped>\n",
       "    .dataframe tbody tr th:only-of-type {\n",
       "        vertical-align: middle;\n",
       "    }\n",
       "\n",
       "    .dataframe tbody tr th {\n",
       "        vertical-align: top;\n",
       "    }\n",
       "\n",
       "    .dataframe thead th {\n",
       "        text-align: right;\n",
       "    }\n",
       "</style>\n",
       "<table border=\"1\" class=\"dataframe\">\n",
       "  <thead>\n",
       "    <tr style=\"text-align: right;\">\n",
       "      <th></th>\n",
       "      <th>avg_experience</th>\n",
       "    </tr>\n",
       "  </thead>\n",
       "  <tbody>\n",
       "    <tr>\n",
       "      <th>0</th>\n",
       "      <td>7.959698</td>\n",
       "    </tr>\n",
       "  </tbody>\n",
       "</table>\n",
       "</div>"
      ],
      "text/plain": [
       "   avg_experience\n",
       "0        7.959698"
      ]
     },
     "execution_count": 33,
     "metadata": {},
     "output_type": "execute_result"
    }
   ],
   "source": [
    "sql_query = \"\"\"\n",
    "SELECT AVG(yearsofexperience) AS avg_experience\n",
    "FROM df\n",
    "WHERE company = 'Oracle' \n",
    "AND title = 'Software Engineer'\n",
    "AND totalyearlycompensation > 50000;\n",
    "\"\"\"\n",
    "execute_sql(sql_query)"
   ]
  },
  {
   "cell_type": "markdown",
   "metadata": {},
   "source": [
    "### Каковы средние зарплаты по локациям Austin, TX, London, EN, United Kingdom и Redmond, WA"
   ]
  },
  {
   "cell_type": "code",
   "execution_count": 39,
   "metadata": {},
   "outputs": [
    {
     "data": {
      "text/html": [
       "<div>\n",
       "<style scoped>\n",
       "    .dataframe tbody tr th:only-of-type {\n",
       "        vertical-align: middle;\n",
       "    }\n",
       "\n",
       "    .dataframe tbody tr th {\n",
       "        vertical-align: top;\n",
       "    }\n",
       "\n",
       "    .dataframe thead th {\n",
       "        text-align: right;\n",
       "    }\n",
       "</style>\n",
       "<table border=\"1\" class=\"dataframe\">\n",
       "  <thead>\n",
       "    <tr style=\"text-align: right;\">\n",
       "      <th></th>\n",
       "      <th>location</th>\n",
       "      <th>avg_totalyearlycompensation</th>\n",
       "    </tr>\n",
       "  </thead>\n",
       "  <tbody>\n",
       "    <tr>\n",
       "      <th>0</th>\n",
       "      <td>Austin, TX</td>\n",
       "      <td>179809.164733</td>\n",
       "    </tr>\n",
       "    <tr>\n",
       "      <th>1</th>\n",
       "      <td>London, EN, United Kingdom</td>\n",
       "      <td>171934.554974</td>\n",
       "    </tr>\n",
       "    <tr>\n",
       "      <th>2</th>\n",
       "      <td>Redmond, WA</td>\n",
       "      <td>225076.573072</td>\n",
       "    </tr>\n",
       "  </tbody>\n",
       "</table>\n",
       "</div>"
      ],
      "text/plain": [
       "                     location  avg_totalyearlycompensation\n",
       "0                  Austin, TX                179809.164733\n",
       "1  London, EN, United Kingdom                171934.554974\n",
       "2                 Redmond, WA                225076.573072"
      ]
     },
     "execution_count": 39,
     "metadata": {},
     "output_type": "execute_result"
    }
   ],
   "source": [
    "sql_query = \"\"\"\n",
    "SELECT location, AVG(totalyearlycompensation) AS avg_totalyearlycompensation\n",
    "FROM df\n",
    "WHERE location IN ('Austin, TX', 'London, EN, United Kingdom', 'Redmond, WA')\n",
    "GROUP BY location\n",
    "\"\"\"\n",
    "execute_sql(sql_query)"
   ]
  },
  {
   "cell_type": "markdown",
   "metadata": {},
   "source": [
    "### Какова средняя зарплата в целом в штате Калифорния? (CA)"
   ]
  },
  {
   "cell_type": "code",
   "execution_count": 40,
   "metadata": {},
   "outputs": [
    {
     "data": {
      "text/html": [
       "<div>\n",
       "<style scoped>\n",
       "    .dataframe tbody tr th:only-of-type {\n",
       "        vertical-align: middle;\n",
       "    }\n",
       "\n",
       "    .dataframe tbody tr th {\n",
       "        vertical-align: top;\n",
       "    }\n",
       "\n",
       "    .dataframe thead th {\n",
       "        text-align: right;\n",
       "    }\n",
       "</style>\n",
       "<table border=\"1\" class=\"dataframe\">\n",
       "  <thead>\n",
       "    <tr style=\"text-align: right;\">\n",
       "      <th></th>\n",
       "      <th>avg_salary</th>\n",
       "    </tr>\n",
       "  </thead>\n",
       "  <tbody>\n",
       "    <tr>\n",
       "      <th>0</th>\n",
       "      <td>258244.112948</td>\n",
       "    </tr>\n",
       "  </tbody>\n",
       "</table>\n",
       "</div>"
      ],
      "text/plain": [
       "      avg_salary\n",
       "0  258244.112948"
      ]
     },
     "execution_count": 40,
     "metadata": {},
     "output_type": "execute_result"
    }
   ],
   "source": [
    "sql_query = \"\"\"\n",
    "SELECT AVG(totalyearlycompensation) AS avg_salary\n",
    "FROM df\n",
    "WHERE location LIKE '%CA%';\n",
    "\n",
    "\"\"\"\n",
    "execute_sql(sql_query)"
   ]
  },
  {
   "cell_type": "markdown",
   "metadata": {},
   "source": [
    "### Сравните заработные платы компаний \"FAANG\" против остальных компаний в разрезе позиции Software Engineer"
   ]
  },
  {
   "cell_type": "code",
   "execution_count": 81,
   "metadata": {},
   "outputs": [
    {
     "data": {
      "text/html": [
       "<div>\n",
       "<style scoped>\n",
       "    .dataframe tbody tr th:only-of-type {\n",
       "        vertical-align: middle;\n",
       "    }\n",
       "\n",
       "    .dataframe tbody tr th {\n",
       "        vertical-align: top;\n",
       "    }\n",
       "\n",
       "    .dataframe thead th {\n",
       "        text-align: right;\n",
       "    }\n",
       "</style>\n",
       "<table border=\"1\" class=\"dataframe\">\n",
       "  <thead>\n",
       "    <tr style=\"text-align: right;\">\n",
       "      <th></th>\n",
       "      <th>company_type</th>\n",
       "      <th>avg_salary</th>\n",
       "    </tr>\n",
       "  </thead>\n",
       "  <tbody>\n",
       "    <tr>\n",
       "      <th>0</th>\n",
       "      <td>FAANG</td>\n",
       "      <td>255686.211440</td>\n",
       "    </tr>\n",
       "    <tr>\n",
       "      <th>1</th>\n",
       "      <td>Other</td>\n",
       "      <td>186129.053767</td>\n",
       "    </tr>\n",
       "  </tbody>\n",
       "</table>\n",
       "</div>"
      ],
      "text/plain": [
       "  company_type     avg_salary\n",
       "0        FAANG  255686.211440\n",
       "1        Other  186129.053767"
      ]
     },
     "execution_count": 81,
     "metadata": {},
     "output_type": "execute_result"
    }
   ],
   "source": [
    "sql_query = \"\"\"\n",
    "SELECT \n",
    "  CASE WHEN company IN ('Facebook','facebook', 'Apple','apple', 'Amazon','amazon', 'Netflix','netflix', 'Google', 'google') THEN 'FAANG' ELSE 'Other' END AS company_type,\n",
    "  AVG(totalyearlycompensation) AS avg_salary\n",
    "FROM df\n",
    "WHERE title = 'Software Engineer'\n",
    "GROUP BY company_type;\n",
    "\n",
    "\"\"\"\n",
    "execute_sql(sql_query)"
   ]
  },
  {
   "cell_type": "markdown",
   "metadata": {},
   "source": [
    "### Сравните среднюю, медиану и моду по заработным платам у Software Engineers за периоды январь 2021 - апрель 2021 vs май 2021 - август 2021 (включительно)"
   ]
  },
  {
   "cell_type": "code",
   "execution_count": 51,
   "metadata": {},
   "outputs": [
    {
     "name": "stdout",
     "output_type": "stream",
     "text": [
      "Mean for January-April: 199110.9127692491\n",
      "Mode for January-April: 150000\n",
      "Median for January-April: 175000.0\n",
      "Mean for May-August: 186914.53712632594\n",
      "Mode for May-August: 150000\n",
      "Median for May-August: 165000.0\n"
     ]
    }
   ],
   "source": [
    "\n",
    "df_jan_apr = df[(df['timestamp'] >= '2021-01-01') & (df['timestamp'] <= '2021-04-30') & (df['title'] == 'Software Engineer')]\n",
    "df_may_aug = df[(df['timestamp'] >= '2021-05-01') & (df['timestamp'] <= '2021-08-31') & (df['title'] == 'Software Engineer')]\n",
    "\n",
    "mean_jan_apr = df_jan_apr['totalyearlycompensation'].mean()\n",
    "mode_jan_apr = df_jan_apr['totalyearlycompensation'].mode().values[0]\n",
    "median_jan_apr = df_jan_apr['totalyearlycompensation'].median()\n",
    "\n",
    "mean_may_aug = df_may_aug['totalyearlycompensation'].mean()\n",
    "mode_may_aug = df_may_aug['totalyearlycompensation'].mode().values[0]\n",
    "median_may_aug = df_may_aug['totalyearlycompensation'].median()\n",
    "\n",
    "print('Mean for January-April:', mean_jan_apr)\n",
    "print('Mode for January-April:', mode_jan_apr)\n",
    "print('Median for January-April:', median_jan_apr)\n",
    "print('Mean for May-August:', mean_may_aug)\n",
    "print('Mode for May-August:', mode_may_aug)\n",
    "print('Median for May-August:', median_may_aug)\n"
   ]
  },
  {
   "cell_type": "markdown",
   "metadata": {},
   "source": [
    "### Визуализируйте данные с предыдущего задания линейным графиком, где должны быть соблюдены следующие условия:\n",
    "    - Период январь-апрель должен быть зеленого цвета\n",
    "    - Период май-август должен быть красного цвета\n",
    "    - на линейном графике должны присутствовать только средние значения (mean)"
   ]
  },
  {
   "cell_type": "code",
   "execution_count": 54,
   "metadata": {},
   "outputs": [
    {
     "data": {
      "image/png": "[encoded data removed]",
      "text/plain": [
       "<Figure size 640x480 with 1 Axes>"
      ]
     },
     "metadata": {},
     "output_type": "display_data"
    }
   ],
   "source": [
    "plt.plot(['January-April', 'May-August'], [mean_jan_apr, mean_may_aug], marker='o')\n",
    "plt.title('Average Salary for Software Engineers')\n",
    "plt.xlabel('Time Period')\n",
    "plt.ylabel('Salary ($)')\n",
    "plt.show()\n",
    "\n"
   ]
  },
  {
   "cell_type": "markdown",
   "metadata": {},
   "source": [
    "### Оцените влияние уровня образования (или его отсутствия) к заработной плате"
   ]
  },
  {
   "cell_type": "code",
   "execution_count": 63,
   "metadata": {},
   "outputs": [
    {
     "name": "stdout",
     "output_type": "stream",
     "text": [
      "\n",
      "Wage by education level:\n"
     ]
    },
    {
     "name": "stderr",
     "output_type": "stream",
     "text": [
      "C:\\Users\\Tuf\\AppData\\Local\\Temp\\ipykernel_21996\\742457445.py:2: SettingWithCopyWarning: \n",
      "A value is trying to be set on a copy of a slice from a DataFrame\n",
      "\n",
      "See the caveats in the documentation: https://pandas.pydata.org/pandas-docs/stable/user_guide/indexing.html#returning-a-view-versus-a-copy\n",
      "  df_ed['Education'].fillna('No Education', inplace=True)\n"
     ]
    },
    {
     "data": {
      "text/html": [
       "<div>\n",
       "<style scoped>\n",
       "    .dataframe tbody tr th:only-of-type {\n",
       "        vertical-align: middle;\n",
       "    }\n",
       "\n",
       "    .dataframe tbody tr th {\n",
       "        vertical-align: top;\n",
       "    }\n",
       "\n",
       "    .dataframe thead th {\n",
       "        text-align: right;\n",
       "    }\n",
       "</style>\n",
       "<table border=\"1\" class=\"dataframe\">\n",
       "  <thead>\n",
       "    <tr style=\"text-align: right;\">\n",
       "      <th></th>\n",
       "      <th>mean</th>\n",
       "      <th>median</th>\n",
       "      <th>mode</th>\n",
       "    </tr>\n",
       "    <tr>\n",
       "      <th>Education</th>\n",
       "      <th></th>\n",
       "      <th></th>\n",
       "      <th></th>\n",
       "    </tr>\n",
       "  </thead>\n",
       "  <tbody>\n",
       "    <tr>\n",
       "      <th>Bachelor's Degree</th>\n",
       "      <td>178092.821606</td>\n",
       "      <td>156000.0</td>\n",
       "      <td>150000</td>\n",
       "    </tr>\n",
       "    <tr>\n",
       "      <th>Highschool</th>\n",
       "      <td>187741.573034</td>\n",
       "      <td>162000.0</td>\n",
       "      <td>150000</td>\n",
       "    </tr>\n",
       "    <tr>\n",
       "      <th>Master's Degree</th>\n",
       "      <td>220304.590679</td>\n",
       "      <td>195000.0</td>\n",
       "      <td>200000</td>\n",
       "    </tr>\n",
       "    <tr>\n",
       "      <th>No Education</th>\n",
       "      <td>225524.078191</td>\n",
       "      <td>195000.0</td>\n",
       "      <td>200000</td>\n",
       "    </tr>\n",
       "    <tr>\n",
       "      <th>PhD</th>\n",
       "      <td>292860.465116</td>\n",
       "      <td>255000.0</td>\n",
       "      <td>250000</td>\n",
       "    </tr>\n",
       "    <tr>\n",
       "      <th>Some College</th>\n",
       "      <td>210747.524752</td>\n",
       "      <td>172500.0</td>\n",
       "      <td>120000</td>\n",
       "    </tr>\n",
       "  </tbody>\n",
       "</table>\n",
       "</div>"
      ],
      "text/plain": [
       "                            mean    median    mode\n",
       "Education                                         \n",
       "Bachelor's Degree  178092.821606  156000.0  150000\n",
       "Highschool         187741.573034  162000.0  150000\n",
       "Master's Degree    220304.590679  195000.0  200000\n",
       "No Education       225524.078191  195000.0  200000\n",
       "PhD                292860.465116  255000.0  250000\n",
       "Some College       210747.524752  172500.0  120000"
      ]
     },
     "execution_count": 63,
     "metadata": {},
     "output_type": "execute_result"
    }
   ],
   "source": [
    "df_ed = df[['totalyearlycompensation', 'Education']]\n",
    "df_ed['Education'].fillna('No Education', inplace=True)\n",
    "\n",
    "education_grouped = df_ed.groupby('Education')['totalyearlycompensation'].agg(['mean', 'median', pd.Series.mode])\n",
    "\n",
    "print('\\nWage by education level:')\n",
    "education_grouped"
   ]
  },
  {
   "cell_type": "code",
   "execution_count": 68,
   "metadata": {},
   "outputs": [
    {
     "data": {
      "text/html": [
       "<div>\n",
       "<style scoped>\n",
       "    .dataframe tbody tr th:only-of-type {\n",
       "        vertical-align: middle;\n",
       "    }\n",
       "\n",
       "    .dataframe tbody tr th {\n",
       "        vertical-align: top;\n",
       "    }\n",
       "\n",
       "    .dataframe thead th {\n",
       "        text-align: right;\n",
       "    }\n",
       "</style>\n",
       "<table border=\"1\" class=\"dataframe\">\n",
       "  <thead>\n",
       "    <tr style=\"text-align: right;\">\n",
       "      <th></th>\n",
       "      <th>EducationLevel</th>\n",
       "      <th>AverageCompensation</th>\n",
       "    </tr>\n",
       "  </thead>\n",
       "  <tbody>\n",
       "    <tr>\n",
       "      <th>0</th>\n",
       "      <td>PhD</td>\n",
       "      <td>292860.465116</td>\n",
       "    </tr>\n",
       "    <tr>\n",
       "      <th>1</th>\n",
       "      <td>No Education</td>\n",
       "      <td>225524.078191</td>\n",
       "    </tr>\n",
       "    <tr>\n",
       "      <th>2</th>\n",
       "      <td>Master's Degree</td>\n",
       "      <td>220304.590679</td>\n",
       "    </tr>\n",
       "    <tr>\n",
       "      <th>3</th>\n",
       "      <td>Some College</td>\n",
       "      <td>210747.524752</td>\n",
       "    </tr>\n",
       "    <tr>\n",
       "      <th>4</th>\n",
       "      <td>Highschool</td>\n",
       "      <td>187741.573034</td>\n",
       "    </tr>\n",
       "    <tr>\n",
       "      <th>5</th>\n",
       "      <td>Bachelor's Degree</td>\n",
       "      <td>178092.821606</td>\n",
       "    </tr>\n",
       "  </tbody>\n",
       "</table>\n",
       "</div>"
      ],
      "text/plain": [
       "      EducationLevel  AverageCompensation\n",
       "0                PhD        292860.465116\n",
       "1       No Education        225524.078191\n",
       "2    Master's Degree        220304.590679\n",
       "3       Some College        210747.524752\n",
       "4         Highschool        187741.573034\n",
       "5  Bachelor's Degree        178092.821606"
      ]
     },
     "execution_count": 68,
     "metadata": {},
     "output_type": "execute_result"
    }
   ],
   "source": [
    "sql_query = \"\"\"\n",
    "SELECT COALESCE(NULLIF(Education, ''), 'No Education') AS EducationLevel,\n",
    "       AVG(totalyearlycompensation) AS AverageCompensation\n",
    "FROM df\n",
    "GROUP BY COALESCE(NULLIF(Education, ''), 'No Education')\n",
    "ORDER BY AverageCompensation DESC\n",
    "\"\"\"\n",
    "execute_sql(sql_query)"
   ]
  },
  {
   "cell_type": "markdown",
   "metadata": {},
   "source": [
    "### Оцените _зависимость_ между опытом работы `yearsofexperience` и заработной платой"
   ]
  },
  {
   "cell_type": "code",
   "execution_count": 5,
   "metadata": {},
   "outputs": [
    {
     "data": {
      "text/plain": [
       "0.42390702842580535"
      ]
     },
     "execution_count": 5,
     "metadata": {},
     "output_type": "execute_result"
    }
   ],
   "source": [
    "data = df[['yearsofexperience', 'totalyearlycompensation']]\n",
    "\n",
    "correlation = data['yearsofexperience'].corr(data['totalyearlycompensation'])\n",
    "correlation"
   ]
  },
  {
   "cell_type": "markdown",
   "metadata": {},
   "source": [
    "### Сделайте сравнение уровня зарплат в зависимости от грэйда (level) в компании Amazon на позицию 'Software Engineer'. Постройте визуализацию и напишите ваши выводы. Подробнее о грэйдах в Amazon, примеры исследования позиций и зарплат в Казахстане"
   ]
  },
  {
   "cell_type": "code",
   "execution_count": 57,
   "metadata": {},
   "outputs": [
    {
     "name": "stderr",
     "output_type": "stream",
     "text": [
      "C:\\Users\\Tuf\\AppData\\Local\\Temp\\ipykernel_17868\\4217550733.py:5: SettingWithCopyWarning: \n",
      "A value is trying to be set on a copy of a slice from a DataFrame.\n",
      "Try using .loc[row_indexer,col_indexer] = value instead\n",
      "\n",
      "See the caveats in the documentation: https://pandas.pydata.org/pandas-docs/stable/user_guide/indexing.html#returning-a-view-versus-a-copy\n",
      "  df_filtered['level'] = df_filtered['level'].replace({'SDE I': 'L4', 'SDE II': 'L5', 'SDE III': 'L6'})\n"
     ]
    },
    {
     "data": {
      "image/png": "[encoded data removed]",
      "text/plain": [
       "<Figure size 640x480 with 1 Axes>"
      ]
     },
     "metadata": {},
     "output_type": "display_data"
    }
   ],
   "source": [
    "# Step 1: Filter and clean the dataset\n",
    "df_filtered = df[(df['title'] == 'Software Engineer') & df['level'].notnull() & ((df['company'] == 'Amazon') | (df['company'] == 'amazon'))]\n",
    "\n",
    "# Step 2: Replace 'SDE I', 'SDE II', 'SDE III' with 'L4', 'L5', 'L6'\n",
    "df_filtered['level'] = df_filtered['level'].replace({'SDE I': 'L4', 'SDE II': 'L5', 'SDE III': 'L6'})\n",
    "\n",
    "\n",
    "# Step 3: Group data by 'level' and calculate average salary\n",
    "average_salary = df_filtered.groupby('level')['totalyearlycompensation'].mean()\n",
    "\n",
    "# Step 4: Define the grade levels and their respective labels\n",
    "grade_levels = ['L4', 'L5', 'L6']\n",
    "\n",
    "# Step 5: Reindex the average salary data to include all grade levels\n",
    "average_salary = average_salary.reindex(grade_levels)\n",
    "\n",
    "# Step 6: Plot the data\n",
    "plt.bar(grade_levels, average_salary)\n",
    "plt.xlabel('Level')\n",
    "plt.ylabel('Average Salary')\n",
    "plt.title('Salary Comparison by Grade for Software Engineers in Amazon')\n",
    "plt.show()"
   ]
  },
  {
   "cell_type": "code",
   "execution_count": 58,
   "metadata": {},
   "outputs": [
    {
     "data": {
      "text/plain": [
       "level\n",
       "L4    150264.577259\n",
       "L5    209938.195777\n",
       "L6    305029.325513\n",
       "Name: totalyearlycompensation, dtype: float64"
      ]
     },
     "execution_count": 58,
     "metadata": {},
     "output_type": "execute_result"
    }
   ],
   "source": [
    "average_salary"
   ]
  },
  {
   "cell_type": "code",
   "execution_count": 61,
   "metadata": {},
   "outputs": [
    {
     "name": "stderr",
     "output_type": "stream",
     "text": [
      "C:\\Users\\Tuf\\AppData\\Local\\Temp\\ipykernel_17868\\1660808996.py:3: SettingWithCopyWarning: \n",
      "A value is trying to be set on a copy of a slice from a DataFrame.\n",
      "Try using .loc[row_indexer,col_indexer] = value instead\n",
      "\n",
      "See the caveats in the documentation: https://pandas.pydata.org/pandas-docs/stable/user_guide/indexing.html#returning-a-view-versus-a-copy\n",
      "  df_filtered['level'] = df_filtered['level'].replace({'SDE I': 'L4', 'SDE II': 'L5', 'SDE III': 'L6'})\n"
     ]
    },
    {
     "data": {
      "image/png": "[encoded data removed]",
      "text/plain": [
       "<Figure size 640x480 with 1 Axes>"
      ]
     },
     "metadata": {},
     "output_type": "display_data"
    },
    {
     "data": {
      "text/plain": [
       "level\n",
       "L4    150264.577259\n",
       "L5    209938.195777\n",
       "L6    305029.325513\n",
       "Name: totalyearlycompensation, dtype: float64"
      ]
     },
     "execution_count": 61,
     "metadata": {},
     "output_type": "execute_result"
    }
   ],
   "source": [
    "df_filtered = df[(df['title'] == 'Software Engineer') & df['level'].notnull() & ((df['company'] == 'Amazon') | (df['company'] == 'amazon'))]\n",
    "\n",
    "df_filtered['level'] = df_filtered['level'].replace({'SDE I': 'L4', 'SDE II': 'L5', 'SDE III': 'L6'})\n",
    "\n",
    "grade_levels = ['L4', 'L5', 'L6']\n",
    "\n",
    "data = [df_filtered[df_filtered['level'] == level]['totalyearlycompensation'] for level in grade_levels]\n",
    "\n",
    "plt.boxplot(data, labels=grade_levels)\n",
    "plt.xlabel('Grade (Level)')\n",
    "plt.ylabel('Total Yearly Compensation')\n",
    "plt.title('Salary Comparison by Grade for Software Engineers in Amazon')\n",
    "plt.show()\n",
    "\n",
    "average_salary = df_filtered.groupby('level')['totalyearlycompensation'].mean().reindex(grade_levels)\n",
    "median_salary = df_filtered.groupby('level')['totalyearlycompensation'].median().reindex(grade_levels)\n",
    "\n"
   ]
  },
  {
   "cell_type": "code",
   "execution_count": 62,
   "metadata": {},
   "outputs": [
    {
     "data": {
      "text/plain": [
       "level\n",
       "L4    150264.577259\n",
       "L5    209938.195777\n",
       "L6    305029.325513\n",
       "Name: totalyearlycompensation, dtype: float64"
      ]
     },
     "execution_count": 62,
     "metadata": {},
     "output_type": "execute_result"
    }
   ],
   "source": [
    "average_salary"
   ]
  },
  {
   "cell_type": "code",
   "execution_count": 63,
   "metadata": {},
   "outputs": [
    {
     "data": {
      "text/plain": [
       "level\n",
       "L4    156000.0\n",
       "L5    215000.0\n",
       "L6    300000.0\n",
       "Name: totalyearlycompensation, dtype: float64"
      ]
     },
     "execution_count": 63,
     "metadata": {},
     "output_type": "execute_result"
    }
   ],
   "source": [
    "median_salary"
   ]
  }
 ],
 "metadata": {
  "kernelspec": {
   "display_name": "Python 3 (ipykernel)",
   "language": "python",
   "name": "python3"
  },
  "language_info": {
   "codemirror_mode": {
    "name": "ipython",
    "version": 3
   },
   "file_extension": ".py",
   "mimetype": "text/x-python",
   "name": "python",
   "nbconvert_exporter": "python",
   "pygments_lexer": "ipython3",
   "version": "3.11.4"
  }
 },
 "nbformat": 4,
 "nbformat_minor": 4
}
